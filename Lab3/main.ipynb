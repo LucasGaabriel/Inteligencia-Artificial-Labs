{
 "cells": [
  {
   "cell_type": "markdown",
   "id": "6153e50f",
   "metadata": {},
   "source": [
    "# Imports"
   ]
  },
  {
   "cell_type": "code",
   "execution_count": 1,
   "id": "e7cb6c26",
   "metadata": {},
   "outputs": [],
   "source": [
    "%%capture\n",
    "%pip install numpy\n",
    "%pip install scipy\n",
    "%pip install matplotlib\n",
    "%pip install seaborn\n",
    "%pip install scikit-learn"
   ]
  },
  {
   "cell_type": "code",
   "execution_count": 2,
   "id": "574670cb",
   "metadata": {},
   "outputs": [],
   "source": [
    "import numpy as np\n",
    "import matplotlib.pyplot as plt\n",
    "import seaborn as sns\n",
    "from sklearn.datasets import load_iris\n",
    "from sklearn.neighbors import KNeighborsClassifier\n",
    "from sklearn.tree import DecisionTreeClassifier\n",
    "from sklearn.model_selection import train_test_split, cross_val_score, cross_val_predict, cross_validate, LeaveOneOut, GridSearchCV, RepeatedStratifiedKFold\n",
    "from sklearn.metrics import confusion_matrix, classification_report\n",
    "from scipy import stats\n",
    "from scipy.stats import ttest_rel, wilcoxon"
   ]
  },
  {
   "cell_type": "markdown",
   "id": "88fba776",
   "metadata": {},
   "source": [
    "# Questão 1"
   ]
  },
  {
   "cell_type": "code",
   "execution_count": 3,
   "id": "a381d19f",
   "metadata": {},
   "outputs": [
    {
     "name": "stdout",
     "output_type": "stream",
     "text": [
      "Labels: ['setosa' 'versicolor' 'virginica']\n",
      "Shape of X: (150, 4)\n",
      "Shape of y: (150,)\n",
      "X:\n",
      "[[5.1 3.5 1.4 0.2]\n",
      " [4.9 3.  1.4 0.2]\n",
      " [4.7 3.2 1.3 0.2]\n",
      " [4.6 3.1 1.5 0.2]\n",
      " [5.  3.6 1.4 0.2]\n",
      " [5.4 3.9 1.7 0.4]\n",
      " [4.6 3.4 1.4 0.3]\n",
      " [5.  3.4 1.5 0.2]\n",
      " [4.4 2.9 1.4 0.2]\n",
      " [4.9 3.1 1.5 0.1]\n",
      " [5.4 3.7 1.5 0.2]\n",
      " [4.8 3.4 1.6 0.2]\n",
      " [4.8 3.  1.4 0.1]\n",
      " [4.3 3.  1.1 0.1]\n",
      " [5.8 4.  1.2 0.2]]\n",
      "y:\n",
      "[0 0 0 0 0 0 0 0 0 0 0 0 0 0 0]\n"
     ]
    }
   ],
   "source": [
    "iris = load_iris()\n",
    "iris_X = iris.data\n",
    "iris_y = iris.target\n",
    "\n",
    "labels = iris.target_names\n",
    "shape_x = iris_X.shape\n",
    "shape_y = iris_y.shape\n",
    "\n",
    "print(f\"Labels: {labels}\")\n",
    "print(f\"Shape of X: {shape_x}\")\n",
    "print(f\"Shape of y: {shape_y}\")\n",
    "\n",
    "print(f\"X:\\n{iris_X[:15]}\")\n",
    "print(f\"y:\\n{iris_y[:15]}\")"
   ]
  },
  {
   "cell_type": "markdown",
   "id": "629008e2",
   "metadata": {},
   "source": [
    "# Questão 2"
   ]
  },
  {
   "cell_type": "code",
   "execution_count": 4,
   "id": "fbc64c51",
   "metadata": {},
   "outputs": [
    {
     "name": "stdout",
     "output_type": "stream",
     "text": [
      "Class distribution: {0: 0.333, 1: 0.333, 2: 0.333}\n"
     ]
    }
   ],
   "source": [
    "def class_distribution(y):\n",
    "    labels = np.unique(y)\n",
    "    amount = len(y)\n",
    "\n",
    "    distribution = {}\n",
    "\n",
    "    for label in labels:\n",
    "        count = np.sum(y == label)\n",
    "        distribution[int(label)] = round(float(count / amount), 3)\n",
    "\n",
    "    return distribution\n",
    "    \n",
    "distribution = class_distribution(iris_y)\n",
    "print(f\"Class distribution: {distribution}\")"
   ]
  },
  {
   "cell_type": "markdown",
   "id": "923b21be",
   "metadata": {},
   "source": [
    "# Questão 3"
   ]
  },
  {
   "cell_type": "code",
   "execution_count": 5,
   "id": "8b2e84ea",
   "metadata": {},
   "outputs": [
    {
     "name": "stdout",
     "output_type": "stream",
     "text": [
      "[1 0 2 1 1 0 1 2 1 1]\n",
      "[1 0 2 1 1 0 1 2 1 1]\n"
     ]
    }
   ],
   "source": [
    "np.random.seed(42)\n",
    "\n",
    "permuted_indices = np.random.permutation(iris_X.shape[0])\n",
    "\n",
    "iris_X_test = iris_X[permuted_indices[:10]]\n",
    "iris_y_test = iris_y[permuted_indices[:10]]\n",
    "iris_X_train = iris_X[permuted_indices[10:]]\n",
    "iris_y_train = iris_y[permuted_indices[10:]]\n",
    "\n",
    "knn = KNeighborsClassifier(n_neighbors=1)\n",
    "knn.fit(iris_X_train, iris_y_train)\n",
    "\n",
    "print(iris_y_test)\n",
    "print(knn.predict(iris_X_test))"
   ]
  },
  {
   "cell_type": "markdown",
   "id": "997eaf7f",
   "metadata": {},
   "source": [
    "# Questão 4"
   ]
  },
  {
   "cell_type": "code",
   "execution_count": 6,
   "id": "59017e1c",
   "metadata": {},
   "outputs": [
    {
     "name": "stdout",
     "output_type": "stream",
     "text": [
      "Treino_X = (90, 4), Treino_Y = (90,)\n",
      "Teste_X = (60, 4), Teste_Y = (60,)\n",
      "[1 0 2 1 1 0 1 2 1 1 2 0 0 0 0 1 2 1 1 2 0 2 0 2 2 2 2 2 0 0 0 0 1 0 0 2 1\n",
      " 0 0 0 2 1 1 0 0 1 2 2 1 2 1 2 1 0 2 1 0 0 0 1]\n",
      "[1 0 2 1 1 0 1 2 1 1 2 0 0 0 0 1 2 1 1 2 0 2 0 2 2 2 2 2 0 0 0 0 1 0 0 2 1\n",
      " 0 0 0 2 1 1 0 0 1 1 2 1 2 1 2 1 0 2 1 0 0 0 1]\n",
      "Accuracy = 0.9833333333333333\n"
     ]
    }
   ],
   "source": [
    "X_train, X_test, y_train, y_test = train_test_split(iris.data, iris.target, test_size=0.4, random_state=42)\n",
    "\n",
    "print(f\"Treino_X = {X_train.shape}, Treino_Y = {y_train.shape}\")\n",
    "print(f\"Teste_X = {X_test.shape}, Teste_Y = {y_test.shape}\")\n",
    "\n",
    "knn.fit(X_train, y_train)\n",
    "y_pred = knn.predict(X_test)\n",
    "\n",
    "print(y_test)\n",
    "print(y_pred)\n",
    "\n",
    "print (f\"Accuracy = {knn.score(X_test, y_test)}\")"
   ]
  },
  {
   "cell_type": "markdown",
   "id": "1d911454",
   "metadata": {},
   "source": [
    "# Questão 5"
   ]
  },
  {
   "cell_type": "code",
   "execution_count": 7,
   "id": "0aaa0531",
   "metadata": {},
   "outputs": [
    {
     "data": {
      "image/png": "[encoded data removed]",
      "text/plain": [
       "<Figure size 500x400 with 2 Axes>"
      ]
     },
     "metadata": {},
     "output_type": "display_data"
    }
   ],
   "source": [
    "def plot_confusion_matrix(cm, labels):\n",
    "    plt.figure(figsize=(5, 4))\n",
    "    sns.heatmap(cm, annot=True, fmt='d', cmap='Blues', xticklabels=labels, yticklabels=labels)\n",
    "    plt.xlabel('Predicted')\n",
    "    plt.ylabel('True')\n",
    "    plt.title('Confusion Matrix')\n",
    "    plt.show()\n",
    "    \n",
    "cm = confusion_matrix(y_test, y_pred)\n",
    "plot_confusion_matrix(cm, labels)"
   ]
  },
  {
   "cell_type": "markdown",
   "id": "517529db",
   "metadata": {},
   "source": [
    "# Questão 6"
   ]
  },
  {
   "cell_type": "code",
   "execution_count": 8,
   "id": "e243239c",
   "metadata": {},
   "outputs": [
    {
     "name": "stdout",
     "output_type": "stream",
     "text": [
      "              precision    recall  f1-score   support\n",
      "\n",
      "      setosa       1.00      1.00      1.00        23\n",
      "  versicolor       0.95      1.00      0.97        19\n",
      "   virginica       1.00      0.94      0.97        18\n",
      "\n",
      "    accuracy                           0.98        60\n",
      "   macro avg       0.98      0.98      0.98        60\n",
      "weighted avg       0.98      0.98      0.98        60\n",
      "\n"
     ]
    }
   ],
   "source": [
    "print(classification_report(y_test, y_pred, target_names=labels))"
   ]
  },
  {
   "cell_type": "markdown",
   "id": "9da64676",
   "metadata": {},
   "source": [
    "# Questão 7"
   ]
  },
  {
   "cell_type": "code",
   "execution_count": 9,
   "id": "df60bdb5",
   "metadata": {},
   "outputs": [
    {
     "data": {
      "image/png": "[encoded data removed]",
      "text/plain": [
       "<Figure size 500x400 with 2 Axes>"
      ]
     },
     "metadata": {},
     "output_type": "display_data"
    }
   ],
   "source": [
    "knn = KNeighborsClassifier(n_neighbors=1)\n",
    "knn.fit(iris_X, iris_y)\n",
    "\n",
    "y_test = iris_y\n",
    "y_pred = knn.predict(iris_X)\n",
    "\n",
    "cm = confusion_matrix(y_test, y_pred)\n",
    "plot_confusion_matrix(cm, labels)"
   ]
  },
  {
   "cell_type": "markdown",
   "id": "48df8d46",
   "metadata": {},
   "source": [
    "# Questão 8"
   ]
  },
  {
   "cell_type": "code",
   "execution_count": 10,
   "id": "e813a10a",
   "metadata": {},
   "outputs": [
    {
     "data": {
      "image/png": "[encoded data removed]",
      "text/plain": [
       "<Figure size 500x400 with 2 Axes>"
      ]
     },
     "metadata": {},
     "output_type": "display_data"
    }
   ],
   "source": [
    "X_train, X_test, y_train, y_test = train_test_split(iris_X, iris_y, test_size=0.5, random_state=42)\n",
    "\n",
    "knn.fit(X_train, y_train)\n",
    "y_pred = knn.predict(X_test)\n",
    "\n",
    "cm = confusion_matrix(y_test, y_pred)\n",
    "plot_confusion_matrix(cm, labels)"
   ]
  },
  {
   "cell_type": "markdown",
   "id": "f034de3d",
   "metadata": {},
   "source": [
    "# Questão 9"
   ]
  },
  {
   "cell_type": "code",
   "execution_count": 11,
   "id": "32f330fd",
   "metadata": {},
   "outputs": [
    {
     "name": "stdout",
     "output_type": "stream",
     "text": [
      "Fold Accuracy: [0.96666667 0.96666667 0.93333333 0.93333333 1.        ]\n",
      "\n",
      "Mean Accuracy: 0.96\n",
      "Standard Deviation: 0.02\n",
      "Accuracy Confidence Interval (95%): 0.94, 0.98\n"
     ]
    },
    {
     "data": {
      "image/png": "[encoded data removed]",
      "text/plain": [
       "<Figure size 500x400 with 2 Axes>"
      ]
     },
     "metadata": {},
     "output_type": "display_data"
    }
   ],
   "source": [
    "knn = KNeighborsClassifier(n_neighbors=1)\n",
    "scores = cross_val_score(knn, iris_X, iris_y, cv=5)\n",
    "\n",
    "print(f\"Fold Accuracy: {scores}\\n\")\n",
    "\n",
    "mean = scores.mean()\n",
    "std = scores.std()\n",
    "inf, sup = stats.norm.interval(0.95, loc=mean, scale=std/np.sqrt(len(scores)))\n",
    "\n",
    "print(f\"Mean Accuracy: {mean:.2f}\")\n",
    "print(f\"Standard Deviation: {std:.2f}\")\n",
    "print (f\"Accuracy Confidence Interval (95%): {inf:.2f}, {sup:.2f}\")\n",
    "\n",
    "y_pred = cross_val_predict(knn, iris_X, iris_y, cv=5)\n",
    "\n",
    "cm = confusion_matrix(iris_y, y_pred)\n",
    "plot_confusion_matrix(cm, labels)"
   ]
  },
  {
   "cell_type": "markdown",
   "id": "6768faa4",
   "metadata": {},
   "source": [
    "# Questão 10"
   ]
  },
  {
   "cell_type": "code",
   "execution_count": 12,
   "id": "520f171c",
   "metadata": {},
   "outputs": [
    {
     "name": "stdout",
     "output_type": "stream",
     "text": [
      "Mean Accuracy: 0.96, Standard Deviation: 0.02\n",
      "Mean Macro Precision: 0.96, Standard Deviation: 0.02\n",
      "Mean Macro Recall: 0.96, Standard Deviation: 0.02\n",
      "Mean Macro F1: 0.96, Standard Deviation: 0.03\n"
     ]
    }
   ],
   "source": [
    "scorings = ['accuracy', 'precision_macro', 'recall_macro', 'f1_macro']\n",
    "scores = cross_validate(knn, iris_X, iris_y, scoring=scorings, cv=5)\n",
    "\n",
    "scores_acc = scores['test_accuracy']\n",
    "print(f\"Mean Accuracy: {scores_acc.mean():.2f}, Standard Deviation: {scores_acc.std():.2f}\")\n",
    "\n",
    "scores_prec = scores['test_precision_macro']\n",
    "print(f\"Mean Macro Precision: {scores_prec.mean():.2f}, Standard Deviation: {scores_prec.std():.2f}\")\n",
    "\n",
    "scores_rec = scores['test_recall_macro']\n",
    "print(f\"Mean Macro Recall: {scores_rec.mean():.2f}, Standard Deviation: {scores_rec.std():.2f}\")\n",
    "\n",
    "scores_f1 = scores['test_f1_macro']\n",
    "print(f\"Mean Macro F1: {scores_f1.mean():.2f}, Standard Deviation: {scores_f1.std():.2f}\")"
   ]
  },
  {
   "cell_type": "markdown",
   "id": "4ba83366",
   "metadata": {},
   "source": [
    "# Questão 11"
   ]
  },
  {
   "cell_type": "code",
   "execution_count": 13,
   "id": "ccec652c",
   "metadata": {},
   "outputs": [
    {
     "name": "stdout",
     "output_type": "stream",
     "text": [
      "[1. 1. 1. 1. 1. 1. 1. 1. 1. 1. 1. 1. 1. 1. 1. 1. 1. 1. 1. 1. 1. 1. 1. 1.\n",
      " 1. 1. 1. 1. 1. 1. 1. 1. 1. 1. 1. 1. 1. 1. 1. 1. 1. 1. 1. 1. 1. 1. 1. 1.\n",
      " 1. 1. 1. 1. 1. 1. 1. 1. 1. 1. 1. 1. 1. 1. 1. 1. 1. 1. 1. 1. 1. 1. 0. 1.\n",
      " 0. 1. 1. 1. 1. 1. 1. 1. 1. 1. 1. 0. 1. 1. 1. 1. 1. 1. 1. 1. 1. 1. 1. 1.\n",
      " 1. 1. 1. 1. 1. 1. 1. 1. 1. 1. 0. 1. 1. 1. 1. 1. 1. 1. 1. 1. 1. 1. 1. 0.\n",
      " 1. 1. 1. 1. 1. 1. 1. 1. 1. 1. 1. 1. 1. 0. 1. 1. 1. 1. 1. 1. 1. 1. 1. 1.\n",
      " 1. 1. 1. 1. 1. 1.]\n",
      "\n",
      "Mean Accuracy: 0.96, Standard Deviation: 0.20\n",
      "Accuracy Confidence Interval (95%): 0.93, 0.99\n",
      "\n"
     ]
    }
   ],
   "source": [
    "loo = LeaveOneOut()\n",
    "scores = cross_val_score(knn, iris_X, iris_y, cv=loo)\n",
    "\n",
    "print(scores)\n",
    "\n",
    "mean = scores.mean()\n",
    "std = scores.std()\n",
    "inf, sup = stats.norm.interval(0.95, loc=mean, scale=std/np.sqrt(len(scores)))\n",
    "\n",
    "print(f\"\\nMean Accuracy: {mean:.2f}, Standard Deviation: {std:.2f}\")\n",
    "print (f\"Accuracy Confidence Interval (95%): {inf:.2f}, {sup:.2f}\\n\")"
   ]
  },
  {
   "cell_type": "markdown",
   "id": "4ba0bdb6",
   "metadata": {},
   "source": [
    "# Questão 12"
   ]
  },
  {
   "cell_type": "code",
   "execution_count": 14,
   "id": "1df8a28e",
   "metadata": {},
   "outputs": [
    {
     "name": "stdout",
     "output_type": "stream",
     "text": [
      "Best Mean Accuracy: 0.97\n",
      "Best Parameter Values:  {'n_neighbors': 5}\n",
      "Grid Search Result Infos:  dict_keys(['mean_fit_time', 'std_fit_time', 'mean_score_time', 'std_score_time', 'param_n_neighbors', 'params', 'split0_test_score', 'split1_test_score', 'split2_test_score', 'split3_test_score', 'split4_test_score', 'split5_test_score', 'split6_test_score', 'split7_test_score', 'split8_test_score', 'split9_test_score', 'mean_test_score', 'std_test_score', 'rank_test_score'])\n",
      "0.9333333333333333\n",
      "[1. 1. 1.]\n",
      "[1.         0.93333333 1.         0.93333333 0.86666667 1.\n",
      " 0.86666667 1.         1.         1.        ]\n",
      "[1.         0.93333333 1.         0.93333333 0.86666667 1.\n",
      " 0.93333333 1.         1.         1.        ]\n",
      "[1.         0.93333333 1.         1.         0.86666667 0.93333333\n",
      " 0.93333333 1.         1.         1.        ]\n",
      "0.96\n",
      "0.9666666666666666\n",
      "0.9666666666666668\n"
     ]
    }
   ],
   "source": [
    "kNN = KNeighborsClassifier()\n",
    "\n",
    "grade = {'n_neighbors': [1, 3, 5]}\n",
    "\n",
    "gs = GridSearchCV(estimator=kNN, param_grid = grade,\n",
    "                  scoring='accuracy', cv = 10)\n",
    "\n",
    "gs = gs.fit(iris_X, iris_y)\n",
    "\n",
    "print(\"Best Mean Accuracy: %0.2f\" % gs.best_score_)\n",
    "print(\"Best Parameter Values: \", gs.best_params_)\n",
    "print(\"Grid Search Result Infos: \", gs.cv_results_.keys())\n",
    "\n",
    "print(gs.cv_results_['split1_test_score'][0])\n",
    "print(gs.cv_results_['split7_test_score'])\n",
    "\n",
    "parciais1 = np.array ([gs.cv_results_['split0_test_score'][0],\n",
    "                       gs.cv_results_['split1_test_score'][0],\n",
    "                       gs.cv_results_['split2_test_score'][0],\n",
    "                       gs.cv_results_['split3_test_score'][0],\n",
    "                       gs.cv_results_['split4_test_score'][0],\n",
    "                       gs.cv_results_['split5_test_score'][0],\n",
    "                       gs.cv_results_['split6_test_score'][0],\n",
    "                       gs.cv_results_['split7_test_score'][0],\n",
    "                       gs.cv_results_['split8_test_score'][0],\n",
    "                       gs.cv_results_['split9_test_score'][0]])\n",
    "\n",
    "parciais2 = np.array ([gs.cv_results_['split0_test_score'][1],\n",
    "                       gs.cv_results_['split1_test_score'][1],\n",
    "                       gs.cv_results_['split2_test_score'][1],\n",
    "                       gs.cv_results_['split3_test_score'][1],\n",
    "                       gs.cv_results_['split4_test_score'][1],\n",
    "                       gs.cv_results_['split5_test_score'][1],\n",
    "                       gs.cv_results_['split6_test_score'][1],\n",
    "                       gs.cv_results_['split7_test_score'][1],\n",
    "                       gs.cv_results_['split8_test_score'][1],\n",
    "                       gs.cv_results_['split9_test_score'][1]])\n",
    "\n",
    "parciais3 = np.array ([gs.cv_results_['split0_test_score'][2],\n",
    "                       gs.cv_results_['split1_test_score'][2],\n",
    "                       gs.cv_results_['split2_test_score'][2],\n",
    "                       gs.cv_results_['split3_test_score'][2],\n",
    "                       gs.cv_results_['split4_test_score'][2],\n",
    "                       gs.cv_results_['split5_test_score'][2],\n",
    "                       gs.cv_results_['split6_test_score'][2],\n",
    "                       gs.cv_results_['split7_test_score'][2],\n",
    "                       gs.cv_results_['split8_test_score'][2],\n",
    "                       gs.cv_results_['split9_test_score'][2]])\n",
    "\n",
    "print (parciais1)\n",
    "print (parciais2)\n",
    "print (parciais3)\n",
    "\n",
    "print (parciais1.mean())\n",
    "print (parciais2.mean())\n",
    "print (parciais3.mean())"
   ]
  },
  {
   "cell_type": "markdown",
   "id": "18f4a131",
   "metadata": {},
   "source": [
    "# Questão 13"
   ]
  },
  {
   "cell_type": "code",
   "execution_count": 15,
   "id": "013b206f",
   "metadata": {},
   "outputs": [
    {
     "name": "stdout",
     "output_type": "stream",
     "text": [
      "[0.96666667 0.96666667 1.         0.96666667 0.96666667 0.93333333\n",
      " 0.96666667 1.         0.96666667 0.96666667 0.93333333 0.96666667\n",
      " 0.96666667 0.93333333 0.93333333 0.93333333 0.96666667 0.96666667\n",
      " 0.96666667 0.96666667 1.         0.93333333 1.         0.9\n",
      " 1.         0.96666667 0.93333333 0.96666667 0.96666667 0.96666667]\n",
      "\n",
      "Mean Accuracy: 0.96\n",
      "Standard Deviation: 0.02\n",
      "Accuracy Confidence Interval (95%): (0.95, 0.95)\n"
     ]
    }
   ],
   "source": [
    "data = load_iris()\n",
    "X, y = data.data, data.target\n",
    "\n",
    "param_grid = {'n_neighbors': [1, 3, 5]}\n",
    "knn = KNeighborsClassifier()\n",
    "gs = GridSearchCV(estimator=kNN, param_grid = param_grid, scoring='accuracy', cv = 4)\n",
    "rkf = RepeatedStratifiedKFold(n_splits=5, n_repeats=6)\n",
    "\n",
    "scores_knn = cross_val_score(gs, X, y, scoring='accuracy', cv = rkf)\n",
    "\n",
    "print (scores_knn)\n",
    "\n",
    "mean = scores_knn.mean()\n",
    "std = scores_knn.std()\n",
    "inf, sup = stats.norm.interval(0.95, loc=mean, scale=std/np.sqrt(len(scores_knn)))\n",
    "\n",
    "print()\n",
    "print(f\"Mean Accuracy: {mean:.2f}\")\n",
    "print(f\"Standard Deviation: {std:.2f}\")\n",
    "print(f\"Accuracy Confidence Interval (95%): ({inf:.2f}, {inf:.2f})\")"
   ]
  },
  {
   "cell_type": "markdown",
   "id": "69bebe17",
   "metadata": {},
   "source": [
    "# Questão 14"
   ]
  },
  {
   "cell_type": "code",
   "execution_count": 16,
   "id": "1a22ac1b",
   "metadata": {},
   "outputs": [
    {
     "name": "stdout",
     "output_type": "stream",
     "text": [
      "[0.96666667 0.9        0.9        0.96666667 0.93333333 0.96666667\n",
      " 0.93333333 0.9        0.96666667 0.9        0.96666667 1.\n",
      " 0.96666667 0.93333333 0.86666667 0.93333333 0.86666667 0.96666667\n",
      " 0.93333333 0.96666667 0.93333333 1.         0.93333333 0.93333333\n",
      " 0.9        0.93333333 0.96666667 0.93333333 1.         0.9       ]\n",
      "\n",
      "Mean Accuracy: 0.94\n",
      "Standard Deviation: 0.04\n",
      "Accuracy Confidence Interval (95%): (0.93, 0.93)\n"
     ]
    }
   ],
   "source": [
    "data = load_iris()\n",
    "X, y = data.data, data.target\n",
    "\n",
    "param_grid = {'max_depth': [2, 3],\n",
    "              'min_samples_split': [2, 4]}\n",
    "\n",
    "decisionTree = DecisionTreeClassifier()\n",
    "gs = GridSearchCV(estimator=decisionTree, param_grid = param_grid, scoring='accuracy', cv = 4)\n",
    "rkf = RepeatedStratifiedKFold(n_splits=5, n_repeats=6)\n",
    "\n",
    "scores_dt = cross_val_score(gs, X, y, scoring='accuracy', cv = rkf)\n",
    "\n",
    "print (scores_dt)\n",
    "\n",
    "mean = scores_dt.mean()\n",
    "std = scores_dt.std()\n",
    "inf, sup = stats.norm.interval(0.95, loc=mean, scale=std/np.sqrt(len(scores_dt)))\n",
    "\n",
    "print()\n",
    "print(f\"Mean Accuracy: {mean:.2f}\")\n",
    "print(f\"Standard Deviation: {std:.2f}\")\n",
    "print(f\"Accuracy Confidence Interval (95%): ({inf:.2f}, {inf:.2f})\")"
   ]
  },
  {
   "cell_type": "markdown",
   "id": "5d9f3ee5",
   "metadata": {},
   "source": [
    "# Questão 15"
   ]
  },
  {
   "cell_type": "code",
   "execution_count": 17,
   "id": "e0f485e4",
   "metadata": {},
   "outputs": [
    {
     "name": "stdout",
     "output_type": "stream",
     "text": [
      "Paired T Test\n",
      "t: 2.66 p-value: 0.01\n",
      "\n",
      "Wilcoxon Test\n",
      "w: 51.00 p-value: 0.01\n",
      "\n"
     ]
    }
   ],
   "source": [
    "print('Paired T Test')\n",
    "s, p = ttest_rel(scores_knn, scores_dt)\n",
    "print(\"t: %0.2f p-value: %0.2f\\n\" % (s,p))\n",
    "\n",
    "\n",
    "print ('Wilcoxon Test')\n",
    "s, p = wilcoxon (scores_knn, scores_dt, method='approx')\n",
    "print(\"w: %0.2f p-value: %0.2f\\n\" % (s,p))"
   ]
  }
 ],
 "metadata": {
  "kernelspec": {
   "display_name": ".venv",
   "language": "python",
   "name": "python3"
  },
  "language_info": {
   "codemirror_mode": {
    "name": "ipython",
    "version": 3
   },
   "file_extension": ".py",
   "mimetype": "text/x-python",
   "name": "python",
   "nbconvert_exporter": "python",
   "pygments_lexer": "ipython3",
   "version": "3.12.3"
  }
 },
 "nbformat": 4,
 "nbformat_minor": 5
}
