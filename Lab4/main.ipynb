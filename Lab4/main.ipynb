{
 "cells": [
  {
   "cell_type": "markdown",
   "id": "1c56feb9",
   "metadata": {},
   "source": [
    "# Instalações"
   ]
  },
  {
   "cell_type": "code",
   "execution_count": null,
   "id": "6ff4c22b",
   "metadata": {},
   "outputs": [],
   "source": [
    "%%capture\n",
    "%pip install numpy\n",
    "%pip install scikit-learn\n",
    "%pip install pandas"
   ]
  },
  {
   "cell_type": "markdown",
   "id": "8d3206ff",
   "metadata": {},
   "source": [
    "# Questão 1"
   ]
  },
  {
   "cell_type": "code",
   "execution_count": null,
   "id": "53ab8700",
   "metadata": {},
   "outputs": [],
   "source": [
    "import numpy as np\n",
    "\n",
    "X_train = [[1, 2], [np.nan, 3], [7, 6]]\n",
    "X_test = [[np.nan, 2], [6, np.nan], [7, 6]]\n",
    "\n",
    "mean_train = np.nanmean(X_train, axis=0)\n",
    "X_test_1 = np.where(np.isnan(X_test), mean_train, X_test)\n",
    "\n",
    "print(X_test_1)"
   ]
  },
  {
   "cell_type": "markdown",
   "id": "890477c2",
   "metadata": {},
   "source": [
    "# Questão 2"
   ]
  },
  {
   "cell_type": "code",
   "execution_count": null,
   "id": "f725d94e",
   "metadata": {},
   "outputs": [],
   "source": [
    "from sklearn.impute import SimpleImputer\n",
    "\n",
    "X_train = [[1, 2], [np.nan, 3], [7, 6]]\n",
    "X_test = [[np.nan, 2], [6, np.nan], [7, 6]]\n",
    "\n",
    "X_train_2 = SimpleImputer(strategy='constant', fill_value=-1).fit_transform(X_train)\n",
    "X_test_2 = SimpleImputer(strategy='constant', fill_value=-1).fit_transform(X_test)\n",
    "\n",
    "print(X_train_2)\n",
    "print(X_test_2)\n",
    "\n",
    "print()\n",
    "\n",
    "X_test_2 = SimpleImputer(missing_values=-1, strategy='median').fit(X_train_2).transform(X_test_2)\n",
    "\n",
    "print(X_test_2)"
   ]
  },
  {
   "cell_type": "markdown",
   "id": "2e25bd4c",
   "metadata": {},
   "source": [
    "# Questão 3"
   ]
  },
  {
   "cell_type": "code",
   "execution_count": null,
   "id": "e414126f",
   "metadata": {},
   "outputs": [],
   "source": [
    "X_test = [[np.nan, 2], [6, np.nan], [7, 6]]\n",
    "\n",
    "X_test_3 = SimpleImputer(strategy='constant', fill_value=-1).fit_transform(X_test)\n",
    "X_test_3 = SimpleImputer(missing_values=-1, strategy='constant', fill_value=11).fit_transform(X_test_3)\n",
    "\n",
    "print(X_test_3)"
   ]
  },
  {
   "cell_type": "markdown",
   "id": "6efe8e02",
   "metadata": {},
   "source": [
    "# Questão 4"
   ]
  },
  {
   "cell_type": "code",
   "execution_count": null,
   "id": "65a4b2c3",
   "metadata": {},
   "outputs": [],
   "source": [
    "m = [[\"a\",    \"x\"],\n",
    "     [np.nan, \"y\"],\n",
    "     [\"a\",    np.nan],\n",
    "     [\"b\",    \"y\"]]\n",
    "\n",
    "new_m = SimpleImputer(strategy=\"most_frequent\").fit_transform(m)\n",
    "\n",
    "print(new_m)"
   ]
  },
  {
   "cell_type": "markdown",
   "id": "70c9df8a",
   "metadata": {},
   "source": [
    "# Questão 5"
   ]
  },
  {
   "cell_type": "code",
   "execution_count": null,
   "id": "65c9f067",
   "metadata": {},
   "outputs": [],
   "source": [
    "m = [[\"a\", \"x\"],\n",
    "     [np.nan, \"y\"],\n",
    "     [\"a\", np.nan],\n",
    "     [\"b\", \"y\"]]\n",
    "\n",
    "new_m = SimpleImputer(strategy='constant', fill_value=\"k\").fit_transform(m)\n",
    "\n",
    "print(new_m)"
   ]
  },
  {
   "cell_type": "markdown",
   "id": "52b78f01",
   "metadata": {},
   "source": [
    "# Questão 6"
   ]
  },
  {
   "cell_type": "code",
   "execution_count": null,
   "id": "0f77dda3",
   "metadata": {},
   "outputs": [],
   "source": [
    "from sklearn import datasets\n",
    "from sklearn import preprocessing\n",
    "from sklearn.model_selection import train_test_split\n",
    "\n",
    "iris = datasets.load_iris()\n",
    "X_train, X_test, y_train, y_test = train_test_split(\n",
    "    iris.data, iris.target, \n",
    "    test_size=0.4, random_state=0\n",
    ")\n",
    "\n",
    "X_train = X_train[:18]\n",
    "X_test = X_test[:12]\n",
    "\n",
    "max_abs_scaler = preprocessing.MaxAbsScaler()\n",
    "\n",
    "X_train_maxabs = max_abs_scaler.fit_transform(X_train)\n",
    "print('Train')\n",
    "print(X_train)\n",
    "print(X_train_maxabs)\n",
    "print()\n",
    "\n",
    "X_test_maxabs = max_abs_scaler.transform(X_test)\n",
    "print('Test')\n",
    "print(X_test)\n",
    "print(X_test_maxabs)\n",
    "print()\n",
    "\n",
    "print('Máximos')\n",
    "print(max_abs_scaler.scale_) "
   ]
  },
  {
   "cell_type": "markdown",
   "id": "1fea6606",
   "metadata": {},
   "source": [
    "# Questão 7"
   ]
  },
  {
   "cell_type": "code",
   "execution_count": null,
   "id": "732224c5",
   "metadata": {},
   "outputs": [],
   "source": [
    "min_max_scaler = preprocessing.MinMaxScaler()\n",
    "\n",
    "X_train_minmax = min_max_scaler.fit_transform(X_train)\n",
    "print('Train')\n",
    "print(X_train_minmax)\n",
    "print()\n",
    "\n",
    "X_test_minmax = min_max_scaler.transform(X_test)\n",
    "print('Test')\n",
    "print(X_test_minmax)\n",
    "print()\n",
    "\n",
    "min_max_scaler = preprocessing.MinMaxScaler(feature_range=(10,20))\n",
    "\n",
    "X_train_minmax = min_max_scaler.fit_transform(X_train)\n",
    "print('Train')\n",
    "print(X_train_minmax)\n",
    "print()\n",
    "\n",
    "X_test_minmax = min_max_scaler.transform(X_test)\n",
    "print ('Test')\n",
    "print(X_test_minmax)"
   ]
  },
  {
   "cell_type": "markdown",
   "id": "5f355734",
   "metadata": {},
   "source": [
    "# Questão 8"
   ]
  },
  {
   "cell_type": "code",
   "execution_count": null,
   "id": "7de23fe2",
   "metadata": {},
   "outputs": [],
   "source": [
    "scaler = preprocessing.StandardScaler().fit(X_train)\n",
    "\n",
    "X_train_scaler = scaler.transform(X_train)\n",
    "print('Train')\n",
    "print(X_train_scaler)\n",
    "print()\n",
    "\n",
    "X_test_scaler = scaler.transform(X_test)\n",
    "print('Test')\n",
    "print(X_test_scaler)\n",
    "print()\n",
    "\n",
    "X_scaled = preprocessing.scale(X_train)\n",
    "print ('Mean: ', X_scaled.mean(axis=0))\n",
    "print ('Standard Deviation: ', X_scaled.std(axis=0))"
   ]
  },
  {
   "cell_type": "markdown",
   "id": "401c1a67",
   "metadata": {},
   "source": [
    "# Questão 9"
   ]
  },
  {
   "cell_type": "code",
   "execution_count": null,
   "id": "4a882d21",
   "metadata": {},
   "outputs": [],
   "source": [
    "from sklearn import datasets\n",
    "from scipy import stats\n",
    "from sklearn.model_selection import cross_val_score, RepeatedStratifiedKFold\n",
    "from sklearn.neighbors import KNeighborsClassifier\n",
    "from sklearn.pipeline import Pipeline\n",
    "from sklearn.preprocessing import StandardScaler\n",
    "\n",
    "iris = datasets.load_iris()\n",
    "iris_X = iris.data\n",
    "iris_y = iris.target\n",
    "\n",
    "scalar = StandardScaler()\n",
    "kNN = KNeighborsClassifier()\n",
    "pipeline = Pipeline([('transformer', scalar), ('estimator', kNN)])\n",
    "\n",
    "rkf = RepeatedStratifiedKFold(n_splits=5, n_repeats=6)\n",
    "\n",
    "scores = cross_val_score(pipeline, iris_X, iris_y, scoring='accuracy', cv = rkf)\n",
    "print(scores)\n",
    "print()\n",
    "\n",
    "mean = scores.mean()\n",
    "std = scores.std()\n",
    "inf, sup = stats.norm.interval(0.95, loc=mean, scale=std/np.sqrt(len(scores)))\n",
    "\n",
    "print(f\"Mean Accuracy: {mean:0.2f} - Standard Deviation: {std:0.2f}\")\n",
    "print(f\"Accuracy Confidence Interval (95%): ({inf:0.2f}, {sup:0.2f})\") "
   ]
  },
  {
   "cell_type": "markdown",
   "id": "37ee0cfd",
   "metadata": {},
   "source": [
    "# Questão 10"
   ]
  },
  {
   "cell_type": "code",
   "execution_count": null,
   "id": "2e7bf569",
   "metadata": {},
   "outputs": [],
   "source": [
    "from sklearn.model_selection import GridSearchCV\n",
    "\n",
    "grade = {'estimator__n_neighbors': [1, 3, 5]}\n",
    "\n",
    "rkf = RepeatedStratifiedKFold(n_splits=10, n_repeats=3)\n",
    "\n",
    "gs = GridSearchCV(\n",
    "    estimator=pipeline, \n",
    "    param_grid = grade,\n",
    "    scoring='accuracy',\n",
    "    cv = 4\n",
    ")\n",
    "\n",
    "scores = cross_val_score(gs, iris_X, iris_y, scoring='accuracy', cv = rkf)\n",
    "print(scores)\n",
    "print()\n",
    "\n",
    "mean = scores.mean()\n",
    "std = scores.std()\n",
    "inf, sup = stats.norm.interval(0.95, loc=mean, scale=std/np.sqrt(len(scores)))\n",
    "\n",
    "print(f\"Mean Accuracy: {mean:0.2f} Standard Deviation: {std:0.2f}\")\n",
    "print(f\"Accuracy Confidence Interval (95%): ({inf:0.2f}, {sup:0.2f})\") "
   ]
  },
  {
   "cell_type": "markdown",
   "id": "56d12ecd",
   "metadata": {},
   "source": [
    "# Questão 11"
   ]
  },
  {
   "cell_type": "code",
   "execution_count": null,
   "id": "5a7ffd51",
   "metadata": {},
   "outputs": [],
   "source": [
    "est = preprocessing.KBinsDiscretizer(n_bins=[3, 2, 2, 4], \n",
    "                                     encode='ordinal').fit(X_train)\n",
    "\n",
    "X_bin = est.transform(X_train)\n",
    "print(X_bin)"
   ]
  },
  {
   "cell_type": "markdown",
   "id": "f78fb10c",
   "metadata": {},
   "source": [
    "# Questão 12"
   ]
  },
  {
   "cell_type": "code",
   "execution_count": null,
   "id": "920292d7",
   "metadata": {},
   "outputs": [],
   "source": [
    "est = preprocessing.KBinsDiscretizer(n_bins=[3, 2, 2, 4], \n",
    "                                     encode='ordinal',\n",
    "                                     strategy='uniform').fit(X_train)\n",
    "\n",
    "X_bin = est.transform(X_train)\n",
    "print(X_bin)"
   ]
  },
  {
   "cell_type": "markdown",
   "id": "1b98e4c9",
   "metadata": {},
   "source": [
    "# Questão 13"
   ]
  },
  {
   "cell_type": "code",
   "execution_count": null,
   "id": "5d093dd8",
   "metadata": {},
   "outputs": [],
   "source": [
    "from sklearn.preprocessing import KBinsDiscretizer, StandardScaler\n",
    "from numpy import unique\n",
    "\n",
    "ncl = len(unique(iris_y))\n",
    "(_, ncr) = iris_X.shape\n",
    "nb = [2*ncl]*ncr\n",
    "\n",
    "discret = KBinsDiscretizer(n_bins=nb,\n",
    "                           encode='ordinal', \n",
    "                           strategy='uniform')\n",
    "\n",
    "scalar = StandardScaler()\n",
    "\n",
    "pipeline = Pipeline([('transformer', scalar),\n",
    "                     ('discretizer', discret),\n",
    "                     ('estimator', kNN)])\n",
    "\n",
    "grade = {'estimator__n_neighbors': [1, 3, 5]}\n",
    "\n",
    "rkf = RepeatedStratifiedKFold(n_splits=5, n_repeats=6)\n",
    "\n",
    "gs = GridSearchCV(estimator=pipeline,\n",
    "                  param_grid=grade, \n",
    "                  scoring='accuracy',\n",
    "                  cv=4)\n",
    "\n",
    "scores = cross_val_score(gs, iris_X, iris_y, scoring='accuracy', cv=rkf)\n",
    "print(scores)\n",
    "print()\n",
    "\n",
    "mean = scores.mean()\n",
    "std = scores.std()\n",
    "inf, sup = stats.norm.interval(0.95, loc=mean, scale=std/np.sqrt(len(scores)))\n",
    "\n",
    "print(f\"Mean Accuracy: {mean:0.2f} - Standard Deviation: {std:0.2f}\")\n",
    "print(f\"Accuracy Confidence Interval (95%): ({inf:0.2f} {sup:0.2f})\") "
   ]
  },
  {
   "cell_type": "markdown",
   "id": "8287a8f1",
   "metadata": {},
   "source": [
    "# Questão 14"
   ]
  },
  {
   "cell_type": "code",
   "execution_count": null,
   "id": "87cd8733",
   "metadata": {},
   "outputs": [],
   "source": [
    "import pandas as pd\n",
    "\n",
    "df = pd.DataFrame([['green', 'M', 10.1, 'class1'], \n",
    "                   ['red', 'L', 13.5, 'class2'],\n",
    "                   ['blue', 'XL', 15.3, 'class1']])\n",
    "\n",
    "df.columns = ['color', 'size', 'price', 'classlabel']\n",
    "print(df)\n",
    "print()\n",
    "\n",
    "size_mapping = {'XL': 3.0, 'L': 2.0, 'M': 1.0}\n",
    "df['size'] = df['size'].map(size_mapping)\n",
    "print(df)\n",
    "print()\n",
    "\n",
    "enc = preprocessing.OrdinalEncoder()\n",
    "enc.fit(df[[\"classlabel\"]]) \n",
    "df[[\"classlabel\"]] = enc.transform(df[[\"classlabel\"]])\n",
    "print(df)\n",
    "print()\n",
    "\n",
    "df = pd.get_dummies(df[['color', 'size', 'price', 'classlabel']])\n",
    "print(df)"
   ]
  },
  {
   "cell_type": "markdown",
   "id": "62daf9cd",
   "metadata": {},
   "source": [
    "# Questão 15"
   ]
  },
  {
   "cell_type": "code",
   "execution_count": null,
   "id": "78e78fc2",
   "metadata": {},
   "outputs": [],
   "source": [
    "from sklearn.decomposition import PCA\n",
    "\n",
    "pca = PCA(n_components=2)\n",
    "pca_tr = pca.fit(X_train)\n",
    "X_ts = pca_tr.transform(X_test)\n",
    "\n",
    "print(X_test)\n",
    "print()\n",
    "print(X_ts)"
   ]
  },
  {
   "cell_type": "markdown",
   "id": "aedbba00",
   "metadata": {},
   "source": [
    "# Questão 16"
   ]
  },
  {
   "cell_type": "code",
   "execution_count": null,
   "id": "f91ae395",
   "metadata": {},
   "outputs": [],
   "source": [
    "from sklearn.feature_selection import VarianceThreshold\n",
    "\n",
    "X = [[0, 1, 1], [0, 1, 0], [1, 1, 0], [0, 1, 1], [0, 1, 0], [0, 1, 1]]\n",
    "\n",
    "sel = VarianceThreshold()\n",
    "X_t = sel.fit_transform(X)\n",
    "print(X_t)\n",
    "print()\n",
    "\n",
    "sel = VarianceThreshold(threshold=(0.8 * (1 - 0.8)))\n",
    "X_t = sel.fit_transform(X)\n",
    "print(X_t)"
   ]
  },
  {
   "cell_type": "markdown",
   "id": "c9a1cc19",
   "metadata": {},
   "source": [
    "# Questão 17"
   ]
  },
  {
   "cell_type": "code",
   "execution_count": null,
   "id": "b08a4349",
   "metadata": {},
   "outputs": [],
   "source": [
    "from sklearn.feature_selection import SelectKBest\n",
    "\n",
    "X_b = SelectKBest(k=2).fit_transform(iris.data, iris.target)\n",
    "\n",
    "print (iris.data)\n",
    "print (X_b)"
   ]
  },
  {
   "cell_type": "markdown",
   "id": "4cf4eee5",
   "metadata": {},
   "source": [
    "# Questão 18"
   ]
  },
  {
   "cell_type": "code",
   "execution_count": null,
   "id": "577ea0ae",
   "metadata": {},
   "outputs": [],
   "source": [
    "from sklearn.model_selection import train_test_split\n",
    "from sklearn.neighbors import KNeighborsClassifier\n",
    "from sklearn.feature_selection import SequentialFeatureSelector\n",
    "\n",
    "X_train, X_test, y_train, y_test = train_test_split(\n",
    "    iris.data, iris.target,\n",
    "    test_size=0.4, random_state=0\n",
    ")\n",
    "\n",
    "oneNN = KNeighborsClassifier(n_neighbors=1)\n",
    "\n",
    "sfs_forward = SequentialFeatureSelector(oneNN,\n",
    "                                        n_features_to_select=2,\n",
    "                                        direction='forward').fit(X_train, y_train)\n",
    "\n",
    "feature_names = np.array(iris.feature_names)\n",
    "\n",
    "print(\"Features selected by forward sequential selection:\")\n",
    "print(feature_names[sfs_forward.get_support()])"
   ]
  },
  {
   "cell_type": "markdown",
   "id": "aac78686",
   "metadata": {},
   "source": [
    "# Questão 19"
   ]
  },
  {
   "cell_type": "code",
   "execution_count": null,
   "id": "1d82d4dd",
   "metadata": {},
   "outputs": [],
   "source": [
    "sfs_backward = SequentialFeatureSelector(oneNN,\n",
    "                                         n_features_to_select=1,\n",
    "                                         direction='backward').fit(X_train, y_train)\n",
    "\n",
    "print(\"Features selected by backward sequential selection:\")\n",
    "print(feature_names[sfs_backward.get_support()])"
   ]
  }
 ],
 "metadata": {
  "kernelspec": {
   "display_name": "Python 3",
   "language": "python",
   "name": "python3"
  },
  "language_info": {
   "codemirror_mode": {
    "name": "ipython",
    "version": 3
   },
   "file_extension": ".py",
   "mimetype": "text/x-python",
   "name": "python",
   "nbconvert_exporter": "python",
   "pygments_lexer": "ipython3",
   "version": "3.12.3"
  }
 },
 "nbformat": 4,
 "nbformat_minor": 5
}
