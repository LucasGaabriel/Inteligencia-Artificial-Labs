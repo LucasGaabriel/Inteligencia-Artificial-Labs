{
 "cells": [
  {
   "cell_type": "markdown",
   "id": "1969d9b1",
   "metadata": {},
   "source": [
    "# Questão 1"
   ]
  },
  {
   "cell_type": "code",
   "execution_count": 1,
   "id": "770c6cc2",
   "metadata": {},
   "outputs": [],
   "source": [
    "from scipy import stats\n",
    "import numpy as np\n",
    "\n",
    "def t_corrigido_nadeau_bengio(data1, data2, X, n_folds_externos):\n",
    "\n",
    "    N = len(X)  # número total de amostras no dataset\n",
    "    n = len(data1)  # número de execuções (ex: 3 repetições × 10 folds = 30)\n",
    "\n",
    "    # Estimativa dos tamanhos dos conjuntos de treino/teste em cada fold externo\n",
    "    n_test = N // n_folds_externos\n",
    "    n_train = N - n_test\n",
    "\n",
    "    # Cálculo da estatística t com correção\n",
    "    diffs = np.array(data1) - np.array(data2)\n",
    "    mean_diff = np.mean(diffs)\n",
    "    std_diff = np.std(diffs, ddof=1)\n",
    "\n",
    "    se_corrigido = std_diff * np.sqrt(1/n + n_test/n_train)\n",
    "    t_stat = mean_diff / se_corrigido\n",
    "    p_valor = 2 * (1 - t.cdf(abs(t_stat), df=n - 1))\n",
    "\n",
    "    return t_stat, p_valor\n",
    "\n",
    "def classification_report(scores):\n",
    "    print(f'Media: {scores.mean():.2f}, Desvio Padrao: {scores.std():.2f}')\n",
    "    inf, sup = stats.norm.interval(0.95, loc=scores.mean(), scale=scores.std()/np.sqrt(len(scores)))\n",
    "    print(f'Intervalo de confiança (95%): [{inf:.2f}, {sup:.2f}]')"
   ]
  },
  {
   "cell_type": "code",
   "execution_count": 2,
   "id": "0fe2de93",
   "metadata": {},
   "outputs": [
    {
     "name": "stdout",
     "output_type": "stream",
     "text": [
      "[0.92982456 0.92105263 0.93859649 0.95614035 0.95575221 0.96491228\n",
      " 0.92105263 0.98245614 0.93859649 0.90265487 0.94736842 0.93859649\n",
      " 0.92982456 0.92982456 0.95575221 0.94736842 0.92105263 0.95614035\n",
      " 0.92105263 0.95575221 0.95614035 0.94736842 0.92982456 0.85087719\n",
      " 0.99115044 0.95614035 0.97368421 0.88596491 0.94736842 0.92920354]\n",
      "Media: 0.94, Desvio Padrao: 0.03\n",
      "Intervalo de confiança (95%): [0.93, 0.95]\n"
     ]
    }
   ],
   "source": [
    "from scipy import stats\n",
    "from scipy.stats import t\n",
    "import numpy as np\n",
    "from sklearn.naive_bayes import GaussianNB\n",
    "from sklearn.model_selection import cross_val_score\n",
    "from sklearn.model_selection import RepeatedStratifiedKFold\n",
    "from sklearn import datasets\n",
    "\n",
    "breast = datasets.load_breast_cancer()\n",
    "breast_X = breast.data\n",
    "breast_y = breast.target\n",
    "\n",
    "gNB = GaussianNB()\n",
    "\n",
    "rkf = RepeatedStratifiedKFold(n_splits=5, n_repeats=6)\n",
    "\n",
    "scores = cross_val_score(gNB, breast_X, breast_y, scoring='accuracy', cv=rkf)\n",
    "\n",
    "print(scores)\n",
    "classification_report(scores)"
   ]
  },
  {
   "cell_type": "markdown",
   "id": "09c1913d",
   "metadata": {},
   "source": [
    "# Questão 2"
   ]
  },
  {
   "cell_type": "code",
   "execution_count": 3,
   "id": "20068c0a",
   "metadata": {},
   "outputs": [
    {
     "name": "stderr",
     "output_type": "stream",
     "text": [
      "/home/lgocosta/Downloads/Inteligencia-Artificial-Labs/.venv/lib/python3.12/site-packages/sklearn/neural_network/_multilayer_perceptron.py:780: ConvergenceWarning: Stochastic Optimizer: Maximum iterations (200) reached and the optimization hasn't converged yet.\n",
      "  warnings.warn(\n",
      "/home/lgocosta/Downloads/Inteligencia-Artificial-Labs/.venv/lib/python3.12/site-packages/sklearn/neural_network/_multilayer_perceptron.py:780: ConvergenceWarning: Stochastic Optimizer: Maximum iterations (200) reached and the optimization hasn't converged yet.\n",
      "  warnings.warn(\n",
      "/home/lgocosta/Downloads/Inteligencia-Artificial-Labs/.venv/lib/python3.12/site-packages/sklearn/neural_network/_multilayer_perceptron.py:780: ConvergenceWarning: Stochastic Optimizer: Maximum iterations (200) reached and the optimization hasn't converged yet.\n",
      "  warnings.warn(\n",
      "/home/lgocosta/Downloads/Inteligencia-Artificial-Labs/.venv/lib/python3.12/site-packages/sklearn/neural_network/_multilayer_perceptron.py:780: ConvergenceWarning: Stochastic Optimizer: Maximum iterations (200) reached and the optimization hasn't converged yet.\n",
      "  warnings.warn(\n"
     ]
    },
    {
     "name": "stdout",
     "output_type": "stream",
     "text": [
      "[0.92105263 0.92105263 0.9122807  0.96491228 0.97345133 0.93859649\n",
      " 0.9122807  0.92982456 0.89473684 0.9380531  0.95614035 0.93859649\n",
      " 0.93859649 0.93859649 0.90265487 0.98245614 0.9122807  0.93859649\n",
      " 0.9122807  0.95575221 0.92982456 0.92982456 0.92105263 0.92982456\n",
      " 0.83185841 0.92105263 0.92982456 0.93859649 0.95614035 0.92920354]\n",
      "Media: 0.93, Desvio Padrao: 0.03\n",
      "Intervalo de confiança (95%): [0.92, 0.94]\n"
     ]
    }
   ],
   "source": [
    "from sklearn.neural_network import MLPClassifier\n",
    "\n",
    "breast = datasets.load_breast_cancer()\n",
    "breast_X = breast.data\n",
    "breast_y = breast.target\n",
    "\n",
    "mlp = MLPClassifier()\n",
    "rkf = RepeatedStratifiedKFold(n_splits=5, n_repeats=6)\n",
    "scores = cross_val_score(mlp, breast_X, breast_y, scoring='accuracy', cv=rkf)\n",
    "\n",
    "print(scores)\n",
    "classification_report(scores)"
   ]
  },
  {
   "cell_type": "markdown",
   "id": "8fc4a030",
   "metadata": {},
   "source": [
    "# Questão 3"
   ]
  },
  {
   "cell_type": "code",
   "execution_count": 4,
   "id": "d145d387",
   "metadata": {},
   "outputs": [
    {
     "name": "stdout",
     "output_type": "stream",
     "text": [
      "[0.94736842 0.92105263 0.97368421 0.96491228 0.98230088 0.96491228\n",
      " 0.99122807 0.92982456 0.96491228 0.96460177 0.93859649 0.97368421\n",
      " 0.95614035 0.99122807 0.97345133 0.95614035 0.96491228 0.94736842\n",
      " 0.94736842 0.98230088 0.96491228 0.95614035 0.95614035 0.94736842\n",
      " 0.96460177 0.95614035 0.99122807 0.98245614 0.95614035 0.92035398]\n",
      "Media: 0.96, Desvio Padrao: 0.02\n",
      "Intervalo de confiança (95%): [0.95, 0.97]\n"
     ]
    }
   ],
   "source": [
    "from sklearn.ensemble import RandomForestClassifier\n",
    "from sklearn.model_selection import cross_val_score, GridSearchCV, RepeatedStratifiedKFold\n",
    "from sklearn.preprocessing import StandardScaler\n",
    "from sklearn.pipeline import Pipeline\n",
    "from sklearn.model_selection import RepeatedStratifiedKFold\n",
    "from sklearn import datasets\n",
    "\n",
    "breast = datasets.load_breast_cancer()\n",
    "breast_X = breast.data\n",
    "breast_y = breast.target\n",
    "\n",
    "scalar = StandardScaler()\n",
    "rkf = RepeatedStratifiedKFold(n_splits=5, n_repeats=6)\n",
    "rF = RandomForestClassifier()\n",
    "\n",
    "pipeline = Pipeline([('transformer', scalar), ('estimator', rF)])\n",
    "grade={'estimator__n_estimators': [10, 20, 50, 100]}\n",
    "gs = GridSearchCV(estimator=pipeline, param_grid = grade, scoring='accuracy', cv=4)\n",
    "\n",
    "scores = cross_val_score(gs, breast_X, breast_y, scoring='accuracy', cv=rkf)\n",
    "\n",
    "print(scores)\n",
    "classification_report(scores)"
   ]
  },
  {
   "cell_type": "markdown",
   "id": "fe76e9a5",
   "metadata": {},
   "source": [
    "# Questão 4"
   ]
  },
  {
   "cell_type": "code",
   "execution_count": null,
   "id": "3bf1a783",
   "metadata": {},
   "outputs": [
    {
     "name": "stdout",
     "output_type": "stream",
     "text": [
      "Media: 0.98, Desvio Padrao: 0.03\n",
      "Intervalo de confiança (95%): [0.96, 0.99]\n",
      "Media: 0.97, Desvio Padrao: 0.04\n",
      "Intervalo de confiança (95%): [0.96, 0.99]\n",
      "Teste t corrigido\n",
      "t: 0.10 p-value: 0.92\n",
      "\n",
      "➡️ Diferença NÃO significativa a 95% de confiança.\n"
     ]
    }
   ],
   "source": [
    "from sklearn.naive_bayes import GaussianNB\n",
    "from sklearn.ensemble import BaggingClassifier\n",
    "from sklearn.ensemble import AdaBoostClassifier\n",
    "from sklearn.model_selection import cross_val_score, GridSearchCV, RepeatedStratifiedKFold\n",
    "from sklearn.preprocessing import StandardScaler\n",
    "from sklearn.pipeline import Pipeline\n",
    "from sklearn import datasets\n",
    "\n",
    "wine = datasets.load_wine()\n",
    "wine_X = wine.data\n",
    "wine_Y = wine.target\n",
    "\n",
    "scalar = StandardScaler()\n",
    "parameters = {'bagging__n_estimators': [10,25,50]}\n",
    "bg = BaggingClassifier(estimator=GaussianNB(), random_state=0)\n",
    "pipe = Pipeline([('scaler', StandardScaler()), ('bagging', bg)])\n",
    "clf = GridSearchCV(pipe, parameters, cv=4)\n",
    "rkf = RepeatedStratifiedKFold(n_splits=10, n_repeats=3)\n",
    "\n",
    "scores1 = cross_val_score(clf, wine_X, wine_Y, cv=rkf)\n",
    "classification_report(scores1)\n",
    "\n",
    "parameters = {'boosting__n_estimators': [10,25,50]}\n",
    "\n",
    "adb = AdaBoostClassifier(estimator=GaussianNB(), random_state=0)\n",
    "pipe = Pipeline([('scaler', StandardScaler()), ('boosting', adb)])\n",
    "clf = GridSearchCV(pipe, parameters, cv=4)\n",
    "rkf = RepeatedStratifiedKFold(n_splits=10, n_repeats=3)\n",
    "\n",
    "scores2 = cross_val_score(clf, wine_X, wine_Y, cv=rkf)\n",
    "classification_report(scores2)\n",
    "\n",
    "print(\"Teste t corrigido\")\n",
    "s, p = t_corrigido_nadeau_bengio(scores1, scores2, wine_X, 10)\n",
    "print(\"t: %0.2f p-value: %0.2f\\n\" % (s, p))\n",
    "if p < 0.05:\n",
    "    print(f\"➡️ Diferença significativa a 95% de confiança.\")\n",
    "else:\n",
    "    print(f\"➡️ Diferença NÃO significativa a 95% de confiança.\")"
   ]
  }
 ],
 "metadata": {
  "kernelspec": {
   "display_name": ".venv",
   "language": "python",
   "name": "python3"
  },
  "language_info": {
   "codemirror_mode": {
    "name": "ipython",
    "version": 3
   },
   "file_extension": ".py",
   "mimetype": "text/x-python",
   "name": "python",
   "nbconvert_exporter": "python",
   "pygments_lexer": "ipython3",
   "version": "3.12.3"
  }
 },
 "nbformat": 4,
 "nbformat_minor": 5
}
