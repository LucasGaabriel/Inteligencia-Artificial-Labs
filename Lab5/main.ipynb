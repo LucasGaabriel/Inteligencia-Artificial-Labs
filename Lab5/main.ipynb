{
 "cells": [
  {
   "cell_type": "code",
   "execution_count": 1,
   "id": "6c93ceee",
   "metadata": {},
   "outputs": [],
   "source": [
    "%%capture\n",
    "%pip install numpy\n",
    "%pip install scikit-learn\n",
    "%pip install pandas"
   ]
  },
  {
   "cell_type": "markdown",
   "id": "1c41b932",
   "metadata": {},
   "source": [
    "# Questão 1"
   ]
  },
  {
   "cell_type": "code",
   "execution_count": 2,
   "id": "09001899",
   "metadata": {},
   "outputs": [
    {
     "name": "stdout",
     "output_type": "stream",
     "text": [
      "--- Zero Rules ---\n",
      "Semente 7 → Acurácia Média: 0.3333, Desvio Padrão: 0.0000\n",
      "Matriz de Confusão:\n",
      "[[50  0  0]\n",
      " [50  0  0]\n",
      " [50  0  0]]\n",
      "\n",
      "Semente 11 → Acurácia Média: 0.3333, Desvio Padrão: 0.0000\n",
      "Matriz de Confusão:\n",
      "[[50  0  0]\n",
      " [50  0  0]\n",
      " [50  0  0]]\n",
      "\n",
      "--- Aleatório Uniforme ---\n",
      "Semente 7 → Acurácia Média: 0.3333, Desvio Padrão: 0.0000\n",
      "Matriz de Confusão:\n",
      "[[20 20 10]\n",
      " [10 10 30]\n",
      " [30  0 20]]\n",
      "\n",
      "Semente 11 → Acurácia Média: 0.2667, Desvio Padrão: 0.0000\n",
      "Matriz de Confusão:\n",
      "[[20 30  0]\n",
      " [20 20 10]\n",
      " [30 20  0]]\n",
      "\n",
      "--- Aleatório Estratificado ---\n",
      "Semente 7 → Acurácia Média: 0.2000, Desvio Padrão: 0.0000\n",
      "Matriz de Confusão:\n",
      "[[10 30 10]\n",
      " [10 20 20]\n",
      " [30 20  0]]\n",
      "\n",
      "Semente 11 → Acurácia Média: 0.4000, Desvio Padrão: 0.0000\n",
      "Matriz de Confusão:\n",
      "[[10 10 30]\n",
      " [30 20  0]\n",
      " [20  0 30]]\n",
      "\n"
     ]
    }
   ],
   "source": [
    "import numpy as np\n",
    "from sklearn.datasets import load_iris\n",
    "from sklearn.model_selection import StratifiedKFold\n",
    "from sklearn.dummy import DummyClassifier\n",
    "from sklearn.metrics import accuracy_score, confusion_matrix\n",
    "\n",
    "X, y = load_iris(return_X_y=True)\n",
    "\n",
    "estrategias = {\n",
    "    \"Zero Rules\": \"most_frequent\",\n",
    "    \"Aleatório Uniforme\": \"uniform\",\n",
    "    \"Aleatório Estratificado\": \"stratified\"\n",
    "}\n",
    "\n",
    "sementes = [7, 11]\n",
    "\n",
    "# Avaliação com acurácia média, desvio e matriz de confusão\n",
    "def avaliar(strategy, seed):\n",
    "    modelo = DummyClassifier(strategy=strategy, random_state=seed)\n",
    "    skf = StratifiedKFold(n_splits=10, shuffle=True, random_state=seed)\n",
    "\n",
    "    accs = []\n",
    "    y_true_total = []\n",
    "    y_pred_total = []\n",
    "\n",
    "    for train_idx, test_idx in skf.split(X, y):\n",
    "        modelo.fit(X[train_idx], y[train_idx])\n",
    "        y_pred = modelo.predict(X[test_idx])\n",
    "        acc = accuracy_score(y[test_idx], y_pred)\n",
    "        accs.append(acc)\n",
    "        y_true_total.extend(y[test_idx])\n",
    "        y_pred_total.extend(y_pred)\n",
    "\n",
    "    media = np.mean(accs)\n",
    "    desvio = np.std(accs)\n",
    "    matriz = confusion_matrix(y_true_total, y_pred_total)\n",
    "    \n",
    "    return media, desvio, matriz\n",
    "\n",
    "for nome, strategy in estrategias.items():\n",
    "    print(f\"--- {nome} ---\")\n",
    "    for seed in sementes:\n",
    "        media, desvio, matriz = avaliar(strategy, seed)\n",
    "        print(f\"Semente {seed} → Acurácia Média: {media:.4f}, Desvio Padrão: {desvio:.4f}\")\n",
    "        print(f\"Matriz de Confusão:\\n{matriz}\\n\")"
   ]
  },
  {
   "cell_type": "markdown",
   "id": "13819a5b",
   "metadata": {},
   "source": [
    "# Questão 2"
   ]
  },
  {
   "cell_type": "code",
   "execution_count": null,
   "id": "124490d2",
   "metadata": {},
   "outputs": [],
   "source": []
  },
  {
   "cell_type": "markdown",
   "id": "60c1c12c",
   "metadata": {},
   "source": [
    "# Questão 3"
   ]
  },
  {
   "cell_type": "code",
   "execution_count": null,
   "id": "c93c90c3",
   "metadata": {},
   "outputs": [],
   "source": []
  },
  {
   "cell_type": "markdown",
   "id": "d46875b6",
   "metadata": {},
   "source": [
    "# Questão 4"
   ]
  },
  {
   "cell_type": "code",
   "execution_count": null,
   "id": "e207784a",
   "metadata": {},
   "outputs": [],
   "source": []
  },
  {
   "cell_type": "markdown",
   "id": "d8ab882f",
   "metadata": {},
   "source": [
    "# Questão 5"
   ]
  },
  {
   "cell_type": "code",
   "execution_count": null,
   "id": "ceb87320",
   "metadata": {},
   "outputs": [],
   "source": []
  },
  {
   "cell_type": "markdown",
   "id": "23aae6ca",
   "metadata": {},
   "source": [
    "# Questão 6"
   ]
  },
  {
   "cell_type": "code",
   "execution_count": null,
   "id": "50d89809",
   "metadata": {},
   "outputs": [],
   "source": []
  },
  {
   "cell_type": "markdown",
   "id": "049dc8b4",
   "metadata": {},
   "source": [
    "# Questão 7"
   ]
  },
  {
   "cell_type": "code",
   "execution_count": null,
   "id": "303350f2",
   "metadata": {},
   "outputs": [],
   "source": []
  }
 ],
 "metadata": {
  "kernelspec": {
   "display_name": "Python 3",
   "language": "python",
   "name": "python3"
  },
  "language_info": {
   "codemirror_mode": {
    "name": "ipython",
    "version": 3
   },
   "file_extension": ".py",
   "mimetype": "text/x-python",
   "name": "python",
   "nbconvert_exporter": "python",
   "pygments_lexer": "ipython3",
   "version": "3.12.3"
  }
 },
 "nbformat": 4,
 "nbformat_minor": 5
}
