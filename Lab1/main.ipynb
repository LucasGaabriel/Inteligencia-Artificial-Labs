{
 "cells": [
  {
   "cell_type": "markdown",
   "id": "0ccac6fa",
   "metadata": {},
   "source": [
    "# Step"
   ]
  },
  {
   "cell_type": "code",
   "execution_count": 11,
   "id": "614086dc",
   "metadata": {},
   "outputs": [],
   "source": [
    "def step(state):\n",
    "    return [state + [0], state + [1]]"
   ]
  },
  {
   "cell_type": "code",
   "execution_count": 12,
   "id": "c61e2dd5",
   "metadata": {},
   "outputs": [
    {
     "name": "stdout",
     "output_type": "stream",
     "text": [
      "[[0], [1]]\n",
      "[[1, 0, 1, 0], [1, 0, 1, 1]]\n"
     ]
    }
   ],
   "source": [
    "print(step([]))\n",
    "print(step([1, 0, 1]))"
   ]
  },
  {
   "cell_type": "markdown",
   "id": "89fc830b",
   "metadata": {},
   "source": [
    "# Expand"
   ]
  },
  {
   "cell_type": "code",
   "execution_count": 13,
   "id": "eb39c6a6",
   "metadata": {},
   "outputs": [],
   "source": [
    "def expand(state):\n",
    "    if len(state) == 0:\n",
    "        return step([])\n",
    "    else:\n",
    "        final_state = []\n",
    "        for s in state:\n",
    "            final_state.extend(step(s))\n",
    "        return final_state"
   ]
  },
  {
   "cell_type": "code",
   "execution_count": 14,
   "id": "d1785f4d",
   "metadata": {},
   "outputs": [
    {
     "name": "stdout",
     "output_type": "stream",
     "text": [
      "[[0], [1]]\n",
      "[[0, 0], [0, 1], [1, 0], [1, 1]]\n",
      "[[1, 0, 1, 0], [1, 0, 1, 1]]\n"
     ]
    }
   ],
   "source": [
    "print(expand([]))\n",
    "print(expand([[0], [1]]))\n",
    "print(expand([[1, 0, 1]]))"
   ]
  },
  {
   "cell_type": "markdown",
   "id": "bd365e9e",
   "metadata": {},
   "source": [
    "# Combine"
   ]
  },
  {
   "cell_type": "code",
   "execution_count": 15,
   "id": "37d8c032",
   "metadata": {},
   "outputs": [],
   "source": [
    "def combine(size):\n",
    "    lista = []\n",
    "    for i in range(size):\n",
    "        lista = expand(lista)\n",
    "    return lista"
   ]
  },
  {
   "cell_type": "code",
   "execution_count": 16,
   "id": "56e174f1",
   "metadata": {},
   "outputs": [
    {
     "name": "stdout",
     "output_type": "stream",
     "text": [
      "[]\n",
      "[[0], [1]]\n",
      "[[0, 0], [0, 1], [1, 0], [1, 1]]\n",
      "[[0, 0, 0], [0, 0, 1], [0, 1, 0], [0, 1, 1], [1, 0, 0], [1, 0, 1], [1, 1, 0], [1, 1, 1]]\n"
     ]
    }
   ],
   "source": [
    "print(combine(0))\n",
    "print(combine(1))\n",
    "print(combine(2))\n",
    "print(combine(3))"
   ]
  },
  {
   "cell_type": "markdown",
   "id": "36aa9231",
   "metadata": {},
   "source": [
    "# Size"
   ]
  },
  {
   "cell_type": "code",
   "execution_count": 17,
   "id": "429eef84",
   "metadata": {},
   "outputs": [],
   "source": [
    "def size(state, sizes):\n",
    "    sum = 0\n",
    "    for i in range(len(state)):\n",
    "        if state[i] == 1:\n",
    "            sum += sizes[i]\n",
    "    return sum"
   ]
  },
  {
   "cell_type": "code",
   "execution_count": 18,
   "id": "186adfb7",
   "metadata": {},
   "outputs": [
    {
     "name": "stdout",
     "output_type": "stream",
     "text": [
      "0\n",
      "5\n",
      "12\n"
     ]
    }
   ],
   "source": [
    "print(size([0, 0, 0], [1, 7, 4]))\n",
    "print(size([1, 0, 1], [1, 7, 4]))\n",
    "print(size([1, 1, 1], [1, 7, 4]))"
   ]
  },
  {
   "cell_type": "markdown",
   "id": "3f6b4010",
   "metadata": {},
   "source": [
    "# Valid"
   ]
  },
  {
   "cell_type": "code",
   "execution_count": 19,
   "id": "91e848c5",
   "metadata": {},
   "outputs": [],
   "source": [
    "def valid(state, sizes, backpack):\n",
    "    if size(state, sizes) > backpack:\n",
    "        return False\n",
    "    else:\n",
    "        return True"
   ]
  },
  {
   "cell_type": "code",
   "execution_count": 20,
   "id": "473fff40",
   "metadata": {},
   "outputs": [
    {
     "name": "stdout",
     "output_type": "stream",
     "text": [
      "True\n",
      "False\n"
     ]
    }
   ],
   "source": [
    "print(valid([1, 0, 1], [1, 7, 4], 8))\n",
    "print(valid([1, 0, 1], [1, 7, 4], 2))"
   ]
  },
  {
   "cell_type": "markdown",
   "id": "ddc9cf38",
   "metadata": {},
   "source": [
    "# Solution"
   ]
  },
  {
   "cell_type": "code",
   "execution_count": 21,
   "id": "b98844e2",
   "metadata": {},
   "outputs": [],
   "source": [
    "def solution(state, sizes):\n",
    "    final_sizes = []\n",
    "    for i in range(len(state)):\n",
    "        if state[i] == 1:\n",
    "            final_sizes.append(sizes[i])\n",
    "    return final_sizes"
   ]
  },
  {
   "cell_type": "code",
   "execution_count": 22,
   "id": "f065269c",
   "metadata": {},
   "outputs": [
    {
     "name": "stdout",
     "output_type": "stream",
     "text": [
      "[]\n",
      "[4]\n",
      "[1, 4]\n"
     ]
    }
   ],
   "source": [
    "print(solution([0, 0, 0], [1, 7, 4]))\n",
    "print(solution([0, 0, 1], [1, 7, 4]))\n",
    "print(solution([1, 0, 1], [1, 7, 4]))"
   ]
  },
  {
   "cell_type": "markdown",
   "id": "be195abe",
   "metadata": {},
   "source": [
    "# Blind Search Knapsack"
   ]
  },
  {
   "cell_type": "code",
   "execution_count": null,
   "id": "b0d3d5b7",
   "metadata": {},
   "outputs": [],
   "source": [
    "def blindSearchKnapsack01(knapsack_size, sizes):\n",
    "    combination = combine(len(sizes))\n",
    "    \n",
    "    for c in combination:\n",
    "        if valid(c, sizes, knapsack_size):\n",
    "            return solution(c, sizes)\n",
    "        \n",
    "    # TODO: FINALIZAR"
   ]
  },
  {
   "cell_type": "code",
   "execution_count": null,
   "id": "49593f42",
   "metadata": {},
   "outputs": [],
   "source": [
    "print(blindSearchKnapsack01(3, [1, 7, 8]))\n",
    "print(blindSearchKnapsack01(8, [1, 7, 8]))"
   ]
  },
  {
   "cell_type": "markdown",
   "id": "2c1b3d5b",
   "metadata": {},
   "source": [
    "# Blind Search Knapsack Max "
   ]
  },
  {
   "cell_type": "code",
   "execution_count": null,
   "id": "75acfc78",
   "metadata": {},
   "outputs": [],
   "source": [
    "def blindSearchKnapsack01Max():\n",
    "    pass"
   ]
  },
  {
   "cell_type": "code",
   "execution_count": null,
   "id": "4ab0f86d",
   "metadata": {},
   "outputs": [],
   "source": [
    "print(blindSearchKnapsack01Max(8, [1, 7, 4]))\n",
    "print(blindSearchKnapsack01Max(8, [1, 7, 8]))"
   ]
  }
 ],
 "metadata": {
  "kernelspec": {
   "display_name": ".venv",
   "language": "python",
   "name": "python3"
  },
  "language_info": {
   "codemirror_mode": {
    "name": "ipython",
    "version": 3
   },
   "file_extension": ".py",
   "mimetype": "text/x-python",
   "name": "python",
   "nbconvert_exporter": "python",
   "pygments_lexer": "ipython3",
   "version": "3.12.3"
  }
 },
 "nbformat": 4,
 "nbformat_minor": 5
}
